{
  "nbformat": 4,
  "nbformat_minor": 0,
  "metadata": {
    "colab": {
      "name": "homweork8_auto_encoder.ipynb",
      "provenance": [],
      "collapsed_sections": []
    },
    "kernelspec": {
      "name": "python3",
      "display_name": "Python 3"
    },
    "language_info": {
      "name": "python"
    },
    "accelerator": "GPU"
  },
  "cells": [
    {
      "cell_type": "code",
      "execution_count": null,
      "metadata": {
        "id": "KPqq8EMpGPIc"
      },
      "outputs": [],
      "source": [
        "import tensorflow_datasets as tfds\n",
        "import tensorflow as tf\n",
        "import numpy as np\n",
        "\n",
        "import matplotlib.pyplot as plt\n"
      ]
    },
    {
      "cell_type": "markdown",
      "source": [
        ""
      ],
      "metadata": {
        "id": "3IAfVZUSv_np"
      }
    },
    {
      "cell_type": "code",
      "source": [
        "(x_train, y_train), (x_test, y_test) = tf.keras.datasets.mnist.load_data()"
      ],
      "metadata": {
        "id": "zoEBORBpYsEU"
      },
      "execution_count": null,
      "outputs": []
    },
    {
      "cell_type": "code",
      "source": [
        "def make_noisy(image, noise_level=1):\n",
        "    image = image + noise_level * tf.random.normal(mean=0, stddev=1, shape=image.shape, dtype=tf.dtypes.float32)\n",
        "    image = tf.clip_by_value(image, -1, 1)\n",
        "    return image"
      ],
      "metadata": {
        "id": "TqKJ1pS5Ytkh"
      },
      "execution_count": null,
      "outputs": []
    },
    {
      "cell_type": "code",
      "source": [
        "def pipeline(dataset, batching= True):\n",
        "    dataset = dataset.map(lambda image: image/128 - 1)\n",
        "    dataset = dataset.map(lambda image: tf.expand_dims(image, -1))\n",
        "    dataset = dataset.map(lambda image: (make_noisy(image), image)).cache()\n",
        "    if batching == True:\n",
        "      dataset = dataset.shuffle(1000)\n",
        "      dataset = dataset.batch(32)\n",
        "      dataset = dataset.prefetch(8)\n",
        "    return dataset"
      ],
      "metadata": {
        "id": "yFVLYhc3YwAi"
      },
      "execution_count": null,
      "outputs": []
    },
    {
      "cell_type": "code",
      "source": [
        "train_dataset = tf.data.Dataset.from_tensor_slices((x_train))\n",
        "train_dataset = pipeline(train_dataset)\n",
        "\n",
        "test_dataset = tf.data.Dataset.from_tensor_slices((x_test))\n",
        "test_dataset = pipeline(test_dataset)"
      ],
      "metadata": {
        "id": "i65DV1SKY0Ln"
      },
      "execution_count": null,
      "outputs": []
    },
    {
      "cell_type": "code",
      "source": [
        "# (train_img,train_label), (test_img, test_label) = tf.keras.datasets.mnist.load_data()\n",
        "# print(train_img.shape)\n",
        "# print(train_label.shape)\n",
        "# print(test_img.shape)\n",
        "# print(test_label.shape)\n",
        "\n",
        "# train_ds = tf.data.Dataset.from_tensor_slices(train_img)\n",
        "# test_ds = tf.data.Dataset.from_tensor_slices(test_img)\n",
        "# print(\"\\nprinting infos after genetaring the data from tensorslicing \\n\", train_ds, test_ds)\n",
        "\n",
        "# # for training , data has still the img as data and labels as numbers\n",
        "# train_ds = train_ds.map(lambda img: (tf.cast(tf.expand_dims(img/255,-1),tf.float32)))\n",
        "# test_ds = test_ds.map(lambda img: tf.cast(tf.expand_dims(img/255,-1),tf.float32))\n",
        "\n",
        "# # creating the noise parameters to introduce to the data\n",
        "\n",
        "# # Create a random noise tensor and add it to the image tensor. You can introduce a\n",
        "# # hyperparameter to control how noisy your data will be. Make sure to keep the images within\n",
        "# # the right scale (between 0 and 1)\n",
        "# # 3You might want to make use of the functions tf.random.normal( ,mean=, stdev=, shape=)\n",
        "# # and tf.clip by value(, min=, max=)\n",
        "# shape = (28,28,1)\n",
        "# noise = tf.random.normal(\n",
        "#     shape, mean=0.0, stddev=0.3, dtype=tf.float32)\n",
        "\n",
        "\n",
        "# # tf.random.normal( ,mean=, stdev=, shape=)\n",
        "# print(\"noise\" , noise.shape, type(noise))\n",
        "\n",
        "\n",
        "# # for train dataset\n",
        "\n",
        "\n",
        "# train_ds = train_ds.map(lambda img: tf.math.add(img,noise))\n",
        "\n",
        "# train_ds = train_ds.map(lambda img: tf.clip_by_value(img, clip_value_min = 0.0, clip_value_max=1.0))\n",
        "\n",
        "# for eml in train_ds: \n",
        "#   print(eml.shape)\n",
        "#   arr = np.squeeze(eml)\n",
        "#   plt.imshow(arr)\n",
        "#   plt.show()\n",
        "#   break\n",
        "\n",
        "# # for test dataset\n",
        "\n",
        "# test_ds = test_ds.map(lambda img: tf.math.add(img,noise))\n",
        "\n",
        "# test_ds = test_ds.map(lambda img: tf.clip_by_value(img, clip_value_min = 0.0, clip_value_max=1.0))\n",
        "\n",
        "# for eml in test_ds: \n",
        "#   print(eml.shape)\n",
        "#   arr = np.squeeze(eml)\n",
        "#   plt.imshow(arr)\n",
        "#   plt.show()\n",
        "#   break\n",
        "\n",
        "#  # creating the pipeline\n",
        "#  # cache\n",
        "# train_ds= train_ds.cache()\n",
        "# test_ds = test_ds.cache() \n",
        "\n",
        "#  # shuffel\n",
        "# train_ds= train_ds.shuffle(1000)\n",
        "# test_ds = test_ds.shuffle(1000) \n",
        "\n",
        "#  # batch \n",
        "# train_ds= train_ds.batch(50)\n",
        "# test_ds = test_ds.batch(50) \n",
        "\n",
        "#  # prefetch \n",
        "# train_ds= train_ds.prefetch(8)\n",
        "# test_ds = test_ds.prefetch(8) \n",
        "  \n",
        "\n",
        "\n",
        "# print(train_ds)\n",
        "\n",
        "                                  \n",
        "\n",
        "\n",
        "\n",
        "\n",
        "\n"
      ],
      "metadata": {
        "colab": {
          "base_uri": "https://localhost:8080/",
          "height": 356
        },
        "id": "sGNhb6D4kvwT",
        "outputId": "9ca85215-1556-47eb-acea-17fdae8a7ba2"
      },
      "execution_count": null,
      "outputs": [
        {
          "output_type": "stream",
          "name": "stdout",
          "text": [
            "(60000, 28, 28)\n",
            "(60000,)\n",
            "(10000, 28, 28)\n",
            "(10000,)\n",
            "\n",
            "printing infos after genetaring the data from tensorslicing \n",
            " <TensorSliceDataset shapes: (28, 28), types: tf.uint8> <TensorSliceDataset shapes: (28, 28), types: tf.uint8>\n"
          ]
        },
        {
          "output_type": "error",
          "ename": "NameError",
          "evalue": "ignored",
          "traceback": [
            "\u001b[0;31m---------------------------------------------------------------------------\u001b[0m",
            "\u001b[0;31mNameError\u001b[0m                                 Traceback (most recent call last)",
            "\u001b[0;32m<ipython-input-8-059fb5e7e803>\u001b[0m in \u001b[0;36m<module>\u001b[0;34m()\u001b[0m\n\u001b[1;32m     10\u001b[0m \u001b[0;34m\u001b[0m\u001b[0m\n\u001b[1;32m     11\u001b[0m \u001b[0;31m# for training , data has still the img as data and labels as numbers\u001b[0m\u001b[0;34m\u001b[0m\u001b[0;34m\u001b[0m\u001b[0;34m\u001b[0m\u001b[0m\n\u001b[0;32m---> 12\u001b[0;31m \u001b[0mtrain_ds\u001b[0m \u001b[0;34m=\u001b[0m \u001b[0mtrain_ds\u001b[0m\u001b[0;34m.\u001b[0m\u001b[0mmap\u001b[0m\u001b[0;34m(\u001b[0m\u001b[0;32mlambda\u001b[0m \u001b[0mimg\u001b[0m\u001b[0;34m:\u001b[0m \u001b[0;34m(\u001b[0m\u001b[0mtf\u001b[0m\u001b[0;34m.\u001b[0m\u001b[0mcast\u001b[0m\u001b[0;34m(\u001b[0m\u001b[0mtf\u001b[0m\u001b[0;34m.\u001b[0m\u001b[0mexpand_dims\u001b[0m\u001b[0;34m(\u001b[0m\u001b[0mimg\u001b[0m\u001b[0;34m/\u001b[0m\u001b[0;36m255\u001b[0m\u001b[0;34m,\u001b[0m\u001b[0;34m-\u001b[0m\u001b[0;36m1\u001b[0m\u001b[0;34m)\u001b[0m\u001b[0;34m,\u001b[0m\u001b[0mtf\u001b[0m\u001b[0;34m.\u001b[0m\u001b[0mfloat32\u001b[0m\u001b[0;34m)\u001b[0m\u001b[0;34m)\u001b[0m\u001b[0;34m,\u001b[0m \u001b[0mimg\u001b[0m\u001b[0;34m)\u001b[0m\u001b[0;34m\u001b[0m\u001b[0;34m\u001b[0m\u001b[0m\n\u001b[0m\u001b[1;32m     13\u001b[0m \u001b[0mtest_ds\u001b[0m \u001b[0;34m=\u001b[0m \u001b[0mtest_ds\u001b[0m\u001b[0;34m.\u001b[0m\u001b[0mmap\u001b[0m\u001b[0;34m(\u001b[0m\u001b[0;32mlambda\u001b[0m \u001b[0mimg\u001b[0m\u001b[0;34m:\u001b[0m \u001b[0mtf\u001b[0m\u001b[0;34m.\u001b[0m\u001b[0mcast\u001b[0m\u001b[0;34m(\u001b[0m\u001b[0mtf\u001b[0m\u001b[0;34m.\u001b[0m\u001b[0mexpand_dims\u001b[0m\u001b[0;34m(\u001b[0m\u001b[0mimg\u001b[0m\u001b[0;34m/\u001b[0m\u001b[0;36m255\u001b[0m\u001b[0;34m,\u001b[0m\u001b[0;34m-\u001b[0m\u001b[0;36m1\u001b[0m\u001b[0;34m)\u001b[0m\u001b[0;34m,\u001b[0m\u001b[0mtf\u001b[0m\u001b[0;34m.\u001b[0m\u001b[0mfloat32\u001b[0m\u001b[0;34m)\u001b[0m\u001b[0;34m)\u001b[0m\u001b[0;34m\u001b[0m\u001b[0;34m\u001b[0m\u001b[0m\n\u001b[1;32m     14\u001b[0m \u001b[0;34m\u001b[0m\u001b[0m\n",
            "\u001b[0;31mNameError\u001b[0m: name 'img' is not defined"
          ]
        }
      ]
    },
    {
      "cell_type": "markdown",
      "source": [
        " Convolutional Autoencoder\n"
      ],
      "metadata": {
        "id": "sU4yeBwPDBl6"
      }
    },
    {
      "cell_type": "code",
      "source": [
        "from tensorflow.keras.layers import Dense,Conv2DTranspose\n",
        "\n",
        "class Myencoder(tf.keras.Model):\n",
        "    \n",
        "    def __init__(self):\n",
        "        super(Myencoder, self).__init__() # 28x28x1\n",
        "        self.conv_1 = tf.keras.layers.Conv2D(filters=128, kernel_size=(3,3), padding=\"same\", activation=tf.nn.relu) # 14x 14x 64\n",
        "        self.max_pool = tf.keras.layers.MaxPool2D(pool_size=(2,2) ,strides=(2, 2))# 7 x 7 x 64\n",
        "\n",
        "        self.conv_2 = tf.keras.layers.Conv2D(filters=64, kernel_size=(3,3), padding=\"same\", activation=tf.nn.relu) # 14x 14x 64\n",
        "        self.max_pool_2 = tf.keras.layers.MaxPool2D(pool_size=(2,2) ,strides=(2, 2))# 7 x 7 x 64\n",
        "\n",
        "        self.flatten = tf.keras.layers.GlobalAveragePooling2D()\n",
        "\n",
        "        self.out_encoder = tf.keras.layers.Dense(10,activation=tf.nn.tanh)\n",
        "\n",
        "    @tf.function\n",
        "    def call(self, inputs):\n",
        "        x = self.conv_1(inputs)\n",
        "        x = self.max_pool(x)\n",
        "\n",
        "        x = self.conv_2(x)\n",
        "        x = self.max_pool_2(x)\n",
        "\n",
        "        x = self.flatten(x)\n",
        "        x = self.out_encoder(x)\n",
        "        return x"
      ],
      "metadata": {
        "id": "FY8pqMJwDAWI"
      },
      "execution_count": null,
      "outputs": []
    },
    {
      "cell_type": "code",
      "source": [
        "input  = tf.ones((1,28,28,1))\n",
        "model = Myencoder()\n",
        "model(input)\n",
        "model.summary()"
      ],
      "metadata": {
        "colab": {
          "base_uri": "https://localhost:8080/"
        },
        "id": "4qWTMgMqKNh3",
        "outputId": "c086f6db-9c1d-4b28-b6c2-1d670ae8e1a5"
      },
      "execution_count": null,
      "outputs": [
        {
          "output_type": "stream",
          "name": "stdout",
          "text": [
            "Model: \"myencoder_1\"\n",
            "_________________________________________________________________\n",
            " Layer (type)                Output Shape              Param #   \n",
            "=================================================================\n",
            " conv2d_3 (Conv2D)           multiple                  1280      \n",
            "                                                                 \n",
            " max_pooling2d_2 (MaxPooling  multiple                 0         \n",
            " 2D)                                                             \n",
            "                                                                 \n",
            " conv2d_4 (Conv2D)           multiple                  73792     \n",
            "                                                                 \n",
            " max_pooling2d_3 (MaxPooling  multiple                 0         \n",
            " 2D)                                                             \n",
            "                                                                 \n",
            " global_average_pooling2d_1   multiple                 0         \n",
            " (GlobalAveragePooling2D)                                        \n",
            "                                                                 \n",
            " dense_2 (Dense)             multiple                  650       \n",
            "                                                                 \n",
            "=================================================================\n",
            "Total params: 75,722\n",
            "Trainable params: 75,722\n",
            "Non-trainable params: 0\n",
            "_________________________________________________________________\n"
          ]
        }
      ]
    },
    {
      "cell_type": "code",
      "source": [
        "from tensorflow.keras.layers import Dense,Conv2DTranspose\n",
        "\n",
        "class MyDEcoder(tf.keras.Model):\n",
        "    \n",
        "    def __init__(self):\n",
        "        super(MyDEcoder, self).__init__() # 49x1\n",
        "        self.dense_1 = tf.keras.layers.Dense(7*7*3)\n",
        "        self.reshape = tf.keras.layers.Reshape((7,7,3))\n",
        "        self.transconv_1 = tf.keras.layers.Conv2DTranspose(filters=128, kernel_size=(2,2), strides=(2, 2),activation=tf.nn.relu) # 14x14x36\n",
        "        self.transconv_2 = tf.keras.layers.Conv2DTranspose(filters=64, kernel_size=(2,2), strides=(2, 2),activation=tf.nn.relu) # 14x14x36 \n",
        " \n",
        "        self.out_DEcoder = tf.keras.layers.Conv2D(filters=1, kernel_size=(3,3), padding=\"same\", activation=tf.nn.tanh)  #28x28x1\n",
        "        \n",
        "        \n",
        "\n",
        "    @tf.function\n",
        "    def call(self, inputs):\n",
        "        x = self.dense_1(inputs)\n",
        "        x = self.reshape(x)\n",
        "\n",
        "        x = self.transconv_1(x)\n",
        "        x = self.transconv_2(x)\n",
        "\n",
        "        \n",
        "        x = self.out_DEcoder(x)\n",
        "        return x"
      ],
      "metadata": {
        "id": "XtfeFfy9Lp6g"
      },
      "execution_count": null,
      "outputs": []
    },
    {
      "cell_type": "code",
      "source": [
        "class CompleteAutoEncoder(tf.keras.Model):\n",
        "    def __init__(self):\n",
        "        super(CompleteAutoEncoder, self).__init__()\n",
        "        \n",
        "        \n",
        "        self.encoder = Myencoder()\n",
        "        \n",
        "        self.decoder = MyDEcoder()\n",
        "        \n",
        "        \n",
        "\n",
        "    def call(self, x):\n",
        "        x = self.encoder(x)\n",
        "        x = self.decoder(x)\n",
        "        return x"
      ],
      "metadata": {
        "id": "tObNcMt3RlPt"
      },
      "execution_count": null,
      "outputs": []
    },
    {
      "cell_type": "code",
      "source": [
        ""
      ],
      "metadata": {
        "id": "5_Z0PnZ3P7z0"
      },
      "execution_count": null,
      "outputs": []
    },
    {
      "cell_type": "code",
      "source": [
        "input  = tf.ones((1,49))\n",
        "model_2 = MyDEcoder()\n",
        "print(model_2(input).shape)\n",
        "model_2.summary()"
      ],
      "metadata": {
        "colab": {
          "base_uri": "https://localhost:8080/"
        },
        "id": "vWh_5Bg3PyJo",
        "outputId": "a22867ac-a3c8-462b-9e4a-116983c2fa0f"
      },
      "execution_count": null,
      "outputs": [
        {
          "output_type": "stream",
          "name": "stdout",
          "text": [
            "(1, 28, 28, 1)\n",
            "Model: \"my_d_ecoder_2\"\n",
            "_________________________________________________________________\n",
            " Layer (type)                Output Shape              Param #   \n",
            "=================================================================\n",
            " dense_5 (Dense)             multiple                  7350      \n",
            "                                                                 \n",
            " reshape_2 (Reshape)         multiple                  0         \n",
            "                                                                 \n",
            " conv2d_transpose_4 (Conv2DT  multiple                 1664      \n",
            " ranspose)                                                       \n",
            "                                                                 \n",
            " conv2d_transpose_5 (Conv2DT  multiple                 32832     \n",
            " ranspose)                                                       \n",
            "                                                                 \n",
            " conv2d_8 (Conv2D)           multiple                  577       \n",
            "                                                                 \n",
            "=================================================================\n",
            "Total params: 42,423\n",
            "Trainable params: 42,423\n",
            "Non-trainable params: 0\n",
            "_________________________________________________________________\n"
          ]
        }
      ]
    },
    {
      "cell_type": "code",
      "source": [
        "def train_step(model, input, target, loss_function, optimizer):\n",
        "  # loss_object and optimizer_object are instances of respective tensorflow classes\n",
        "  with tf.GradientTape() as tape:\n",
        "    prediction = model(input)\n",
        "    loss = loss_function(target, prediction)\n",
        "    gradients = tape.gradient(loss, model.trainable_variables)\n",
        "  optimizer.apply_gradients(zip(gradients, model.trainable_variables))\n",
        "  return loss\n",
        "\n",
        "def test(model, test_data, loss_function):\n",
        "  # test over complete test data\n",
        "\n",
        "  #test_accuracy_aggregator = []\n",
        "  test_loss_aggregator = []\n",
        "\n",
        "  for (input, target) in test_data:\n",
        "    prediction = model(input)\n",
        "    sample_test_loss = loss_function(target, prediction)\n",
        "   # sample_test_accuracy =  np.argmax(target, axis=1) == np.argmax(prediction, axis=1)\n",
        "   # sample_test_accuracy = np.mean(sample_test_accuracy)\n",
        "    test_loss_aggregator.append(sample_test_loss.numpy())\n",
        "   # test_accuracy_aggregator.append(np.mean(sample_test_accuracy))\n",
        "\n",
        "  test_loss = tf.reduce_mean(test_loss_aggregator)\n",
        " # test_accuracy = tf.reduce_mean(test_accuracy_aggregator)\n",
        "\n",
        "  return test_loss#, test_accuracy"
      ],
      "metadata": {
        "id": "TopPac4-QPYE"
      },
      "execution_count": null,
      "outputs": []
    },
    {
      "cell_type": "code",
      "source": [
        "tf.keras.backend.clear_session()\n",
        "\n",
        "#For showcasing we only use a subset of the training and test data (generally use all of the available data!)\n",
        "# train_dataset = train_dataset.take(1000)\n",
        "# test_dataset = test_dataset.take(100)\n",
        "\n",
        "### Hyperparameters\n",
        "num_epochs = 20\n",
        "learning_rate = 0.001\n",
        "\n",
        "# Initialize the model.\n",
        "model = CompleteAutoEncoder()\n",
        "# Initialize the loss: categorical cross entropy. Check out 'tf.keras.losses'.\n",
        "cross_entropy_loss = tf.keras.losses.MeanSquaredError()\n",
        "# Initialize the optimizer: SGD with default parameters. Check out 'tf.keras.optimizers'\n",
        "optimizer = tf.keras.optimizers.Adam(learning_rate)\n",
        "\n",
        "# Initialize lists for later visualization.\n",
        "train_losses = []\n",
        "\n",
        "test_losses = []\n",
        "\n",
        "#testing once before we begin\n",
        "test_loss = test(model, test_dataset, cross_entropy_loss)\n",
        "test_losses.append(test_loss)\n",
        "\n",
        "#check how model performs on train data once before we begin\n",
        "train_loss = test(model, train_dataset, cross_entropy_loss)\n",
        "train_losses.append(train_loss)\n",
        "\n",
        "# We train for num_epochs epochs.\n",
        "for epoch in range(num_epochs):\n",
        "    print(f'Epoch: {str(epoch)} starting with test loss {test_losses[-1]}')\n",
        "\n",
        "    #training (and checking in with training)\n",
        "    epoch_loss_agg = []\n",
        "    for input,target in train_dataset:\n",
        "        train_loss = train_step(model, input, target, cross_entropy_loss, optimizer)\n",
        "        epoch_loss_agg.append(train_loss)\n",
        "    \n",
        "    #track training loss\n",
        "    train_losses.append(tf.reduce_mean(epoch_loss_agg))\n",
        "\n",
        "    #testing, so we can track accuracy and test loss\n",
        "    test_loss = test(model, test_dataset, cross_entropy_loss)\n",
        "    test_losses.append(test_loss)\n"
      ],
      "metadata": {
        "colab": {
          "base_uri": "https://localhost:8080/"
        },
        "id": "YD0CNVFCRTXU",
        "outputId": "1d20c4d9-4184-4197-b3b6-976671609e3c"
      },
      "execution_count": null,
      "outputs": [
        {
          "output_type": "stream",
          "name": "stdout",
          "text": [
            "Epoch: 0 starting with test loss 0.9262027144432068\n",
            "Epoch: 1 starting with test loss 0.24398545920848846\n",
            "Epoch: 2 starting with test loss 0.22181732952594757\n",
            "Epoch: 3 starting with test loss 0.2048383504152298\n",
            "Epoch: 4 starting with test loss 0.19443568587303162\n",
            "Epoch: 5 starting with test loss 0.18958722054958344\n",
            "Epoch: 6 starting with test loss 0.18987281620502472\n",
            "Epoch: 7 starting with test loss 0.1801229566335678\n",
            "Epoch: 8 starting with test loss 0.18308623135089874\n",
            "Epoch: 9 starting with test loss 0.18156808614730835\n",
            "Epoch: 10 starting with test loss 0.17925989627838135\n",
            "Epoch: 11 starting with test loss 0.1765272617340088\n",
            "Epoch: 12 starting with test loss 0.17480111122131348\n",
            "Epoch: 13 starting with test loss 0.1757226437330246\n",
            "Epoch: 14 starting with test loss 0.1789248287677765\n",
            "Epoch: 15 starting with test loss 0.17702707648277283\n",
            "Epoch: 16 starting with test loss 0.1722611039876938\n",
            "Epoch: 17 starting with test loss 0.1731410175561905\n",
            "Epoch: 18 starting with test loss 0.170964777469635\n",
            "Epoch: 19 starting with test loss 0.1756698489189148\n"
          ]
        }
      ]
    },
    {
      "cell_type": "code",
      "source": [
        " def pipeline_viz(image):\n",
        "    image = image/128 - 1\n",
        "    image = make_noisy(image)\n",
        "    image = tf.expand_dims(image, -1)\n",
        "    image = tf.expand_dims(image, 0)\n",
        "\n",
        "    return image\n",
        "\n",
        "image = x_test[9]\n",
        "\n",
        "noisy = pipeline_viz(image)\n",
        "\n",
        "denoised = model(noisy)\n",
        "\n",
        "denoised = tf.squeeze(denoised)\n",
        "\n",
        "noisy = (tf.squeeze(noisy) + 1) / 2\n",
        "\n",
        "\n",
        "\n",
        "f, axarr = plt.subplots(1,2)\n",
        "axarr[0].imshow(noisy)\n",
        "axarr[1].imshow(denoised)\n",
        "\n",
        "\n",
        "\n",
        "\n",
        "print(\"train data\")\n",
        "\n",
        " def pipeline_viz(image):\n",
        "    image = image/128 - 1\n",
        "    image = make_noisy(image)\n",
        "    image = tf.expand_dims(image, -1)\n",
        "    image = tf.expand_dims(image, 0)\n",
        "\n",
        "    return image\n",
        "\n",
        "image = x_train[9]\n",
        "\n",
        "noisy = pipeline_viz(image)\n",
        "\n",
        "denoised = model(noisy)\n",
        "\n",
        "denoised = tf.squeeze(denoised)\n",
        "\n",
        "noisy = (tf.squeeze(noisy) + 1) / 2\n",
        "\n",
        "\n",
        "\n",
        "f, axarr = plt.subplots(1,2)\n",
        "axarr[0].imshow(noisy)\n",
        "axarr[1].imshow(denoised)\n"
      ],
      "metadata": {
        "colab": {
          "base_uri": "https://localhost:8080/",
          "height": 420
        },
        "id": "Rg52d18Scs5u",
        "outputId": "16300f22-1f69-4f41-8d80-46a23c07bcfd"
      },
      "execution_count": null,
      "outputs": [
        {
          "output_type": "stream",
          "name": "stdout",
          "text": [
            "train data\n"
          ]
        },
        {
          "output_type": "execute_result",
          "data": {
            "text/plain": [
              "<matplotlib.image.AxesImage at 0x7fdd3bc48990>"
            ]
          },
          "metadata": {},
          "execution_count": 160
        },
        {
          "output_type": "display_data",
          "data": {
            "image/png": "[encoded data removed]",
            "text/plain": [
              "<Figure size 432x288 with 2 Axes>"
            ]
          },
          "metadata": {
            "needs_background": "light"
          }
        },
        {
          "output_type": "display_data",
          "data": {
            "image/png": "[encoded data removed]",
            "text/plain": [
              "<Figure size 432x288 with 2 Axes>"
            ]
          },
          "metadata": {
            "needs_background": "light"
          }
        }
      ]
    },
    {
      "cell_type": "code",
      "source": [
        "print(np.min(image))\n",
        "print(np.max(image))"
      ],
      "metadata": {
        "colab": {
          "base_uri": "https://localhost:8080/"
        },
        "id": "lyv4ERK3eRRC",
        "outputId": "217411b7-3402-4e83-a2f2-e2430d15caac"
      },
      "execution_count": null,
      "outputs": [
        {
          "output_type": "stream",
          "name": "stdout",
          "text": [
            "0\n",
            "255\n"
          ]
        }
      ]
    },
    {
      "cell_type": "code",
      "source": [
        "plt.imshow(image /255)"
      ],
      "metadata": {
        "colab": {
          "base_uri": "https://localhost:8080/",
          "height": 282
        },
        "id": "jkiwUEUmjvXJ",
        "outputId": "bfeecc24-cdbf-492a-842b-1154a6519f17"
      },
      "execution_count": null,
      "outputs": [
        {
          "output_type": "execute_result",
          "data": {
            "text/plain": [
              "<matplotlib.image.AxesImage at 0x7fddb83d2e10>"
            ]
          },
          "metadata": {},
          "execution_count": 87
        },
        {
          "output_type": "display_data",
          "data": {
            "image/png": "[encoded data removed]",
            "text/plain": [
              "<Figure size 432x288 with 1 Axes>"
            ]
          },
          "metadata": {
            "needs_background": "light"
          }
        }
      ]
    },
    {
      "cell_type": "code",
      "source": [
        ""
      ],
      "metadata": {
        "id": "nb0lBYpnn_V3"
      },
      "execution_count": null,
      "outputs": []
    }
  ]
}