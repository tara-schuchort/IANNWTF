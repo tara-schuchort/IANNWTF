{
  "nbformat": 4,
  "nbformat_minor": 0,
  "metadata": {
    "colab": {
      "name": "homework_7_for_submission.ipynb",
      "provenance": [],
      "collapsed_sections": []
    },
    "kernelspec": {
      "name": "python3",
      "display_name": "Python 3"
    },
    "language_info": {
      "name": "python"
    },
    "accelerator": "GPU"
  },
  "cells": [
    {
      "cell_type": "code",
      "execution_count": 1,
      "metadata": {
        "id": "ZUT8i_yz9ay9"
      },
      "outputs": [],
      "source": [
        "import numpy as np \n",
        "import tensorflow as tf"
      ]
    },
    {
      "cell_type": "code",
      "source": [
        "seq = 30\n",
        "num_samples = 5000"
      ],
      "metadata": {
        "id": "rJUYih9h_bge"
      },
      "execution_count": 21,
      "outputs": []
    },
    {
      "cell_type": "code",
      "source": [
        "def integrate(seq,num_samples ):\n",
        "\n",
        "  for _ in range(num_samples):\n",
        "  \n",
        "    seq_int = np.random.uniform(-2,2, size=(seq,1))\n",
        "    target = [int(np.sum(seq_int) > 0)]\n",
        "\n",
        "    yield seq_int, target\n",
        "\n",
        "\n"
      ],
      "metadata": {
        "id": "wqGktq93-WSc"
      },
      "execution_count": 3,
      "outputs": []
    },
    {
      "cell_type": "code",
      "source": [
        "for elm in integrate(3, 20):\n",
        "  print(elm)\n",
        "  break"
      ],
      "metadata": {
        "colab": {
          "base_uri": "https://localhost:8080/"
        },
        "id": "WhKZaqQFD5C0",
        "outputId": "a8cfff18-1c06-456c-8bb6-df8490d18f4f"
      },
      "execution_count": null,
      "outputs": [
        {
          "output_type": "stream",
          "name": "stdout",
          "text": [
            "(array([[ 1.81703516],\n",
            "       [ 1.84685404],\n",
            "       [-1.72812374]]), [1])\n"
          ]
        }
      ]
    },
    {
      "cell_type": "markdown",
      "source": [
        "creating teh dataste\n"
      ],
      "metadata": {
        "id": "FG0Nu9x5BoLR"
      }
    },
    {
      "cell_type": "code",
      "source": [
        "data_gen = tf.data.Dataset.from_generator(lambda: integrate(seq, num_samples),\n",
        "                                      output_types=(tf.float32,tf.float32),\n",
        "                                      output_shapes=((seq, None), (None)))"
      ],
      "metadata": {
        "id": "VtUfneCSBnAx"
      },
      "execution_count": 4,
      "outputs": []
    },
    {
      "cell_type": "code",
      "source": [
        "for elm in data: \n",
        "  print(elm)\n",
        "\n",
        "  break"
      ],
      "metadata": {
        "colab": {
          "base_uri": "https://localhost:8080/"
        },
        "id": "U1PfIyS7CHPW",
        "outputId": "30ed27bb-8561-4fe8-b282-730af55e5a0e"
      },
      "execution_count": null,
      "outputs": [
        {
          "output_type": "stream",
          "name": "stdout",
          "text": [
            "(<tf.Tensor: shape=(30, 1), dtype=float32, numpy=\n",
            "array([[ 0.01414811],\n",
            "       [-0.49087608],\n",
            "       [ 1.4762912 ],\n",
            "       [-1.1699657 ],\n",
            "       [-0.31656176],\n",
            "       [-0.00820046],\n",
            "       [ 1.9732596 ],\n",
            "       [-1.8516284 ],\n",
            "       [-1.2335991 ],\n",
            "       [-1.4157653 ],\n",
            "       [-0.2319562 ],\n",
            "       [ 0.3803576 ],\n",
            "       [ 1.409033  ],\n",
            "       [ 0.28683394],\n",
            "       [ 0.48222715],\n",
            "       [-1.8165442 ],\n",
            "       [ 1.9645857 ],\n",
            "       [-1.9984188 ],\n",
            "       [-0.09749787],\n",
            "       [-1.6334894 ],\n",
            "       [ 1.4740738 ],\n",
            "       [ 1.8283552 ],\n",
            "       [ 1.6209981 ],\n",
            "       [ 1.7909253 ],\n",
            "       [-1.9488215 ],\n",
            "       [ 0.5021576 ],\n",
            "       [-1.4083229 ],\n",
            "       [ 1.0082355 ],\n",
            "       [ 1.7175624 ],\n",
            "       [-0.04875762]], dtype=float32)>, <tf.Tensor: shape=(1,), dtype=float32, numpy=array([1.], dtype=float32)>)\n"
          ]
        }
      ]
    },
    {
      "cell_type": "code",
      "source": [
        "def pipe(value):\n",
        "  value = value.shuffle(500)\n",
        "  value = value.batch(5)\n",
        "  value = value.prefetch(5)\n",
        "\n",
        "  return value\n",
        "\n",
        "\n",
        "data = pipe(data_gen)\n",
        "\n",
        "\n",
        "\n",
        "\n"
      ],
      "metadata": {
        "id": "ZR44kAZmEfvx"
      },
      "execution_count": 5,
      "outputs": []
    },
    {
      "cell_type": "code",
      "source": [
        "class LSTM_Cell(tf.keras.layers.Layer):\n",
        "    def __init__(self, units):\n",
        "        super(LSTM_Cell, self).__init__()\n",
        "        \n",
        "        self.units = units\n",
        "        \n",
        "        self.forgate_gate = tf.keras.layers.Dense(self.units, bias_initializer='ones', activation = 'sigmoid')\n",
        "        self.input_gate = tf.keras.layers.Dense(self.units, activation='sigmoid')\n",
        "        self.cell_candidate = tf.keras.layers.Dense(self.units, activation='tanh')\n",
        "\n",
        "        self.output_gate = tf.keras.layers.Dense(self.units, activation='sigmoid')\n",
        "\n",
        "        \n",
        "        \n",
        "        \n",
        "        \n",
        "    def call(self,x, states): # lets asume state is a tuple ht-1, ct-1\n",
        "\n",
        "      h_t0,c_t0 =states \n",
        "      x_h = tf.concat((x,h_t0), axis = 1) # axis 1 means seq size\n",
        "\n",
        "      f = self.forgate_gate(x_h)\n",
        "      i_t = self.input_gate(x_h)\n",
        "      c_c = self.cell_candidate(x_h)\n",
        "\n",
        "      c_t1 = f*c_t0\n",
        "      \n",
        "\n",
        "      it_ct = i_t * c_c \n",
        "\n",
        "      c_t1 = c_t1 + it_ct\n",
        "\n",
        "      out = self.output_gate(x_h)\n",
        "\n",
        "      h_t1 = out * tf.nn.tanh(c_t1)\n",
        "      return h_t1,c_t1\n",
        "\n",
        "\n",
        "\n"
      ],
      "metadata": {
        "id": "BqLvkGsSGw1p"
      },
      "execution_count": 6,
      "outputs": []
    },
    {
      "cell_type": "code",
      "source": [
        "cell = LSTM_Cell(5)"
      ],
      "metadata": {
        "id": "NHwnASreQXCd"
      },
      "execution_count": null,
      "outputs": []
    },
    {
      "cell_type": "code",
      "source": [
        "inp = tf.ones((4,1))\n",
        "dem_h = tf.ones((4,5))\n",
        "dem_c = tf.ones((4,5))\n",
        "states = dem_h , dem_c\n",
        "\n",
        "cell(inp,states)"
      ],
      "metadata": {
        "colab": {
          "base_uri": "https://localhost:8080/"
        },
        "id": "amElO4mmQoFD",
        "outputId": "c1814a41-58e2-4c24-9c00-7392d1c0670c"
      },
      "execution_count": null,
      "outputs": [
        {
          "output_type": "execute_result",
          "data": {
            "text/plain": [
              "(<tf.Tensor: shape=(4, 5), dtype=float32, numpy=\n",
              " array([[0.1152489 , 0.16034305, 0.27379707, 0.42499968, 0.4829328 ],\n",
              "        [0.1152489 , 0.16034305, 0.27379707, 0.42499968, 0.4829328 ],\n",
              "        [0.1152489 , 0.16034305, 0.27379707, 0.42499968, 0.4829328 ],\n",
              "        [0.1152489 , 0.16034305, 0.27379707, 0.42499968, 0.4829328 ]],\n",
              "       dtype=float32)>, <tf.Tensor: shape=(4, 5), dtype=float32, numpy=\n",
              " array([[0.18433547, 1.1337729 , 1.3323114 , 0.79889566, 0.9420346 ],\n",
              "        [0.18433547, 1.1337729 , 1.3323114 , 0.79889566, 0.9420346 ],\n",
              "        [0.18433547, 1.1337729 , 1.3323114 , 0.79889566, 0.9420346 ],\n",
              "        [0.18433547, 1.1337729 , 1.3323114 , 0.79889566, 0.9420346 ]],\n",
              "       dtype=float32)>)"
            ]
          },
          "metadata": {},
          "execution_count": 82
        }
      ]
    },
    {
      "cell_type": "code",
      "source": [
        "class LSTM_Model(tf.keras.layers.Layer):\n",
        "    def __init__(self, units):\n",
        "        super(LSTM_Model, self).__init__()\n",
        "\n",
        "        self.units = units\n",
        "\n",
        "        self.read_in = tf.keras.layers.Dense(10, activation='sigmoid')\n",
        "        \n",
        "        self.cell = LSTM_Cell(units)\n",
        "        \n",
        "\n",
        "        self.read_out = tf.keras.layers.Dense(1, activation='sigmoid')\n",
        "        \n",
        "\n",
        "        \n",
        "        \n",
        "        \n",
        "        \n",
        "    def call(self,x):\n",
        "      batch_size = x.shape[0]\n",
        "\n",
        "\n",
        "      h_t = tf.zeros((batch_size,self.units))\n",
        "      c_t = tf.zeros((batch_size,self.units))  \n",
        "      states = (h_t,c_t)\n",
        "      \n",
        "\n",
        "      x = self.read_in(x)\n",
        "\n",
        "      # passing it to teh cell and getiing the out\n",
        "\n",
        "      for t in tf.range(x.shape[1]):\n",
        "\n",
        "        x_t = x[:,t,:]\n",
        "        states = self.cell(x_t,states)\n",
        "\n",
        "      output = states[0]\n",
        "\n",
        "      out = self.read_out(output)\n",
        "\n",
        "      return out\n",
        "\n",
        "      \n",
        "\n",
        "\n",
        "\n",
        "\n",
        "      \n",
        "\n",
        "\n",
        "\n"
      ],
      "metadata": {
        "id": "VqWuQ5izFemw"
      },
      "execution_count": 7,
      "outputs": []
    },
    {
      "cell_type": "code",
      "source": [
        "model = LSTM_Model(10)\n",
        "x  = tf.ones((4,3,1))\n",
        "\n",
        "\n",
        "model(x)"
      ],
      "metadata": {
        "colab": {
          "base_uri": "https://localhost:8080/"
        },
        "id": "ch2ntLUdaaXe",
        "outputId": "bb987403-b283-45e8-9bcd-a2530571890f"
      },
      "execution_count": null,
      "outputs": [
        {
          "output_type": "execute_result",
          "data": {
            "text/plain": [
              "<tf.Tensor: shape=(4, 1), dtype=float32, numpy=\n",
              "array([[0.49369842],\n",
              "       [0.49369842],\n",
              "       [0.49369842],\n",
              "       [0.49369842]], dtype=float32)>"
            ]
          },
          "metadata": {},
          "execution_count": 98
        }
      ]
    },
    {
      "cell_type": "markdown",
      "source": [
        " train and test"
      ],
      "metadata": {
        "id": "GCfzTfMGbsBL"
      }
    },
    {
      "cell_type": "code",
      "source": [
        "def train_step(model, input, target, loss_function, optimizer):\n",
        "  # loss_object and optimizer_object are instances of respective tensorflow classes\n",
        "  with tf.GradientTape() as tape:\n",
        "    prediction = model(input)\n",
        "    loss = loss_function(target, prediction)\n",
        "    gradients = tape.gradient(loss, model.trainable_variables)\n",
        "  optimizer.apply_gradients(zip(gradients, model.trainable_variables))\n",
        "  return loss\n",
        "\n",
        "def test(model, test_data, loss_function):\n",
        "  # test over complete test data\n",
        "\n",
        "  test_accuracy_aggregator = []\n",
        "  test_loss_aggregator = []\n",
        "\n",
        "  for (input, target) in test_data:\n",
        "    prediction = model(input)\n",
        "    sample_test_loss = loss_function(target, prediction)\n",
        "    sample_test_accuracy =  np.round(target) == np.round(prediction)\n",
        "    sample_test_accuracy = np.mean(sample_test_accuracy)\n",
        "    test_loss_aggregator.append(sample_test_loss.numpy())\n",
        "    test_accuracy_aggregator.append(np.mean(sample_test_accuracy))\n",
        "\n",
        "  test_loss = tf.reduce_mean(test_loss_aggregator)\n",
        "  test_accuracy = tf.reduce_mean(test_accuracy_aggregator)\n",
        "\n",
        "  return test_loss, test_accuracy"
      ],
      "metadata": {
        "id": "oGNbpacabfc8"
      },
      "execution_count": 8,
      "outputs": []
    },
    {
      "cell_type": "code",
      "source": [
        "for elm in data.take(1):\n",
        "  print(elm[0], elm[1])\n",
        "  break"
      ],
      "metadata": {
        "colab": {
          "base_uri": "https://localhost:8080/"
        },
        "id": "DbQkWV_Ed85T",
        "outputId": "d217a69b-9816-4843-f61e-d698c76dae95"
      },
      "execution_count": null,
      "outputs": [
        {
          "output_type": "stream",
          "name": "stdout",
          "text": [
            "tf.Tensor(\n",
            "[[[-0.07644245]\n",
            "  [ 1.5079134 ]\n",
            "  [ 1.832364  ]\n",
            "  [ 0.66329074]\n",
            "  [ 0.05119299]\n",
            "  [-1.3096695 ]\n",
            "  [ 0.02630882]\n",
            "  [-1.3436368 ]\n",
            "  [-0.397001  ]\n",
            "  [-1.8338748 ]\n",
            "  [ 1.8795983 ]\n",
            "  [ 1.5409172 ]\n",
            "  [ 0.585726  ]\n",
            "  [ 1.8900625 ]\n",
            "  [-0.68533903]\n",
            "  [ 0.20730413]\n",
            "  [-1.626676  ]\n",
            "  [ 1.9437805 ]\n",
            "  [-0.02693482]\n",
            "  [-0.3513229 ]\n",
            "  [-1.7979275 ]\n",
            "  [-0.5728425 ]\n",
            "  [-0.80165   ]\n",
            "  [ 0.5983134 ]\n",
            "  [ 1.1018474 ]\n",
            "  [-0.23208696]\n",
            "  [ 1.7538748 ]\n",
            "  [-1.8766367 ]\n",
            "  [ 0.26704744]\n",
            "  [ 0.86261827]]\n",
            "\n",
            " [[ 1.2248638 ]\n",
            "  [ 0.61454666]\n",
            "  [ 1.2200023 ]\n",
            "  [-1.3827988 ]\n",
            "  [-0.7609556 ]\n",
            "  [-0.11721791]\n",
            "  [-0.11209115]\n",
            "  [ 1.2437205 ]\n",
            "  [-0.5882118 ]\n",
            "  [-0.01307455]\n",
            "  [-0.15588175]\n",
            "  [ 1.9933455 ]\n",
            "  [-0.80933636]\n",
            "  [-1.4668711 ]\n",
            "  [-0.94213027]\n",
            "  [-1.8341511 ]\n",
            "  [-1.4155077 ]\n",
            "  [-0.31492075]\n",
            "  [-1.8294489 ]\n",
            "  [ 1.8710635 ]\n",
            "  [ 0.2760023 ]\n",
            "  [ 0.35581413]\n",
            "  [-0.66340804]\n",
            "  [ 0.29053023]\n",
            "  [ 0.56975615]\n",
            "  [ 0.33535302]\n",
            "  [ 0.3909129 ]\n",
            "  [-1.8709762 ]\n",
            "  [-0.8662345 ]\n",
            "  [ 1.9912055 ]]\n",
            "\n",
            " [[-1.1207806 ]\n",
            "  [ 1.8510205 ]\n",
            "  [-1.6238201 ]\n",
            "  [ 1.1341617 ]\n",
            "  [-0.5843096 ]\n",
            "  [ 0.7233131 ]\n",
            "  [ 1.8662238 ]\n",
            "  [-1.0733672 ]\n",
            "  [ 1.2595968 ]\n",
            "  [ 1.6113552 ]\n",
            "  [-1.1341407 ]\n",
            "  [-0.21177725]\n",
            "  [ 0.6385414 ]\n",
            "  [-0.3961914 ]\n",
            "  [ 1.8322943 ]\n",
            "  [-0.44845125]\n",
            "  [-0.86881524]\n",
            "  [-0.90232766]\n",
            "  [-0.9408959 ]\n",
            "  [ 0.64594024]\n",
            "  [ 1.1136109 ]\n",
            "  [ 1.0714248 ]\n",
            "  [ 0.667693  ]\n",
            "  [-1.7526463 ]\n",
            "  [ 1.5729718 ]\n",
            "  [ 0.38264862]\n",
            "  [ 1.6027269 ]\n",
            "  [-1.7690889 ]\n",
            "  [-0.05292469]\n",
            "  [-1.0962137 ]]\n",
            "\n",
            " [[-1.0550946 ]\n",
            "  [ 1.9493134 ]\n",
            "  [-0.03735935]\n",
            "  [-1.3002726 ]\n",
            "  [-1.9308248 ]\n",
            "  [-1.1716434 ]\n",
            "  [-0.07036854]\n",
            "  [ 0.16082273]\n",
            "  [ 1.3064212 ]\n",
            "  [ 0.6167655 ]\n",
            "  [-1.365318  ]\n",
            "  [ 0.9531541 ]\n",
            "  [ 1.1971899 ]\n",
            "  [-1.9518663 ]\n",
            "  [ 1.9958433 ]\n",
            "  [-1.3518314 ]\n",
            "  [-0.2894953 ]\n",
            "  [ 1.0846785 ]\n",
            "  [-0.7314994 ]\n",
            "  [-0.80368835]\n",
            "  [ 0.6164712 ]\n",
            "  [ 0.53092504]\n",
            "  [ 0.8704068 ]\n",
            "  [ 0.17209582]\n",
            "  [ 1.8354179 ]\n",
            "  [-1.5029087 ]\n",
            "  [-0.48247322]\n",
            "  [-1.7938682 ]\n",
            "  [-1.5089045 ]\n",
            "  [-0.7863097 ]]\n",
            "\n",
            " [[ 1.3129548 ]\n",
            "  [ 0.36779475]\n",
            "  [ 1.8913622 ]\n",
            "  [-0.83596176]\n",
            "  [ 0.64412373]\n",
            "  [ 0.7114516 ]\n",
            "  [ 1.4981129 ]\n",
            "  [ 0.73387635]\n",
            "  [-0.71755743]\n",
            "  [-0.93563694]\n",
            "  [ 0.02452629]\n",
            "  [ 0.7051002 ]\n",
            "  [-1.3811982 ]\n",
            "  [ 1.7830436 ]\n",
            "  [-1.062707  ]\n",
            "  [ 0.7443517 ]\n",
            "  [ 1.0562053 ]\n",
            "  [ 1.9399813 ]\n",
            "  [ 0.5260365 ]\n",
            "  [ 1.3063203 ]\n",
            "  [-0.75708085]\n",
            "  [ 0.4660143 ]\n",
            "  [-0.6024623 ]\n",
            "  [ 0.2858481 ]\n",
            "  [ 1.2708627 ]\n",
            "  [ 0.4123113 ]\n",
            "  [ 1.7322665 ]\n",
            "  [-0.46792486]\n",
            "  [-0.4456375 ]\n",
            "  [ 0.11784405]]], shape=(5, 30, 1), dtype=float32) tf.Tensor(\n",
            "[[1.]\n",
            " [0.]\n",
            " [1.]\n",
            " [0.]\n",
            " [1.]], shape=(5, 1), dtype=float32)\n"
          ]
        }
      ]
    },
    {
      "cell_type": "code",
      "source": [
        "tf.keras.backend.clear_session()\n",
        "\n",
        "#For showcasing we only use a subset of the training and test data (generally use all of the available data!)\n",
        "train_dataset = data.take(800)\n",
        "\n",
        "\n",
        "test_dataset = data.skip(800)\n",
        "\n",
        "### Hyperparameters\n",
        "num_epochs = 30\n",
        "learning_rate = 0.01\n",
        "\n",
        "# Initialize the model.\n",
        "model = LSTM_Model(10)\n",
        "# Initialize the loss: categorical cross entropy. Check out 'tf.keras.losses'.\n",
        "cross_entropy_loss = tf.keras.losses.BinaryCrossentropy()\n",
        "# Initialize the optimizer: SGD with default parameters. Check out 'tf.keras.optimizers'\n",
        "optimizer = tf.keras.optimizers.SGD(learning_rate)\n",
        "\n",
        "# Initialize lists for later visualization.\n",
        "train_losses = []\n",
        "\n",
        "test_losses = []\n",
        "test_accuracies = []\n",
        "\n",
        "#testing once before we begin\n",
        "test_loss, test_accuracy = test(model, test_dataset, cross_entropy_loss)\n",
        "test_losses.append(test_loss)\n",
        "test_accuracies.append(test_accuracy)\n",
        "\n",
        "#check how model performs on train data once before we begin\n",
        "train_loss, _ = test(model, train_dataset, cross_entropy_loss)\n",
        "train_losses.append(train_loss)\n",
        "\n",
        "# We train for num_epochs epochs.\n",
        "for epoch in range(num_epochs):\n",
        "    print(f'Epoch: {str(epoch)} starting with accuracy {test_accuracies[-1]}')\n",
        "\n",
        "    #training (and checking in with training)\n",
        "    epoch_loss_agg = []\n",
        "    for input,target in train_dataset:\n",
        "        train_loss = train_step(model, input, target, cross_entropy_loss, optimizer)\n",
        "        epoch_loss_agg.append(train_loss)\n",
        "    \n",
        "    #track training loss\n",
        "    train_losses.append(tf.reduce_mean(epoch_loss_agg))\n",
        "\n",
        "    #testing, so we can track accuracy and test loss\n",
        "    test_loss, test_accuracy = test(model, test_dataset, cross_entropy_loss)\n",
        "    test_losses.append(test_loss)\n",
        "    test_accuracies.append(test_accuracy)"
      ],
      "metadata": {
        "id": "qZNUsMhTb9jc",
        "colab": {
          "base_uri": "https://localhost:8080/"
        },
        "outputId": "ad76e651-07c3-4200-aafe-472ceec5444c"
      },
      "execution_count": 22,
      "outputs": [
        {
          "output_type": "stream",
          "name": "stdout",
          "text": [
            "Epoch: 0 starting with accuracy 0.499\n",
            "Epoch: 1 starting with accuracy 0.6789999999999999\n",
            "Epoch: 2 starting with accuracy 0.893\n",
            "Epoch: 3 starting with accuracy 0.8739999999999999\n",
            "Epoch: 4 starting with accuracy 0.909\n",
            "Epoch: 5 starting with accuracy 0.9440000000000001\n",
            "Epoch: 6 starting with accuracy 0.898\n",
            "Epoch: 7 starting with accuracy 0.9440000000000001\n",
            "Epoch: 8 starting with accuracy 0.949\n",
            "Epoch: 9 starting with accuracy 0.94\n",
            "Epoch: 10 starting with accuracy 0.9469999999999998\n",
            "Epoch: 11 starting with accuracy 0.941\n",
            "Epoch: 12 starting with accuracy 0.934\n",
            "Epoch: 13 starting with accuracy 0.9359999999999998\n",
            "Epoch: 14 starting with accuracy 0.9520000000000001\n",
            "Epoch: 15 starting with accuracy 0.902\n",
            "Epoch: 16 starting with accuracy 0.93\n",
            "Epoch: 17 starting with accuracy 0.9330000000000002\n",
            "Epoch: 18 starting with accuracy 0.916\n",
            "Epoch: 19 starting with accuracy 0.951\n",
            "Epoch: 20 starting with accuracy 0.9119999999999999\n",
            "Epoch: 21 starting with accuracy 0.91\n",
            "Epoch: 22 starting with accuracy 0.935\n",
            "Epoch: 23 starting with accuracy 0.9610000000000001\n",
            "Epoch: 24 starting with accuracy 0.9349999999999998\n",
            "Epoch: 25 starting with accuracy 0.9330000000000002\n",
            "Epoch: 26 starting with accuracy 0.939\n",
            "Epoch: 27 starting with accuracy 0.9619999999999999\n",
            "Epoch: 28 starting with accuracy 0.9629999999999999\n",
            "Epoch: 29 starting with accuracy 0.9620000000000001\n"
          ]
        }
      ]
    },
    {
      "cell_type": "code",
      "source": [
        "import matplotlib.pyplot as plt\n",
        "\n",
        "# Visualize accuracy and loss for training and test data.\n",
        "plt.figure()\n",
        "line1, = plt.plot(train_losses)\n",
        "line2, = plt.plot(test_losses)\n",
        "line3, = plt.plot(test_accuracies)\n",
        "plt.xlabel(\"Training steps\")\n",
        "plt.ylabel(\"Loss/Accuracy\")\n",
        "plt.legend((line1,line2, line3),(\"training\",\"test\", \"test accuracy\"))\n",
        "plt.show()"
      ],
      "metadata": {
        "colab": {
          "base_uri": "https://localhost:8080/",
          "height": 282
        },
        "id": "uyTjdbCfhQjx",
        "outputId": "cfcc4ed6-5fc9-420d-bab1-0dcf8de3b81a"
      },
      "execution_count": 23,
      "outputs": [
        {
          "output_type": "display_data",
          "data": {
            "image/png": "[encoded data removed]",
            "text/plain": [
              "<Figure size 432x288 with 1 Axes>"
            ]
          },
          "metadata": {
            "needs_background": "light"
          }
        }
      ]
    }
  ]
}