{
 "cells": [
  {
   "cell_type": "markdown",
   "metadata": {},
   "source": [
    "### Preparation \n",
    "\n",
    "For this homework you will use sigmoid as an activation function. Think about the following questions (you do not have to hand in the answers, they are just for your own recap)\n",
    "\n",
    "- What is the purpose of an activation function in a NN in general?\n",
    "\n",
    "- What's the advantage of e.g. sigmoid over the step function (threshold function)?\n",
    "\n",
    "- How does sigmoid look like (the formula as well as the graph)?\n",
    "\n",
    "- What is the derivative of sigmoid?\n",
    "\n",
    "Implement a function sigmoid ( $\\mathrm{x}$ ) and a function sigmoidprime ( $\\mathrm{x}$ ) (the derivative. "
   ]
  },
  {
   "cell_type": "code",
   "execution_count": 10,
   "metadata": {},
   "outputs": [],
   "source": [
    "import numpy as np\n",
    "\n",
    "import matplotlib.pyplot as plt"
   ]
  },
  {
   "cell_type": "markdown",
   "metadata": {},
   "source": [
    "### Implementing the activation functions "
   ]
  },
  {
   "cell_type": "code",
   "execution_count": 60,
   "metadata": {},
   "outputs": [],
   "source": [
    "def sigmoid(x):\n",
    "    \"\"\"Function implements the sigmoid function\n",
    "        Args:\n",
    "            x (ndarray): Ndarray of values on which sigmoid should be applied\n",
    "        Returns:\n",
    "            sig (ndarray): Ndarray of resulting values\n",
    "    \"\"\"\n",
    "    sig = 1 / (1 + np.exp(-x))\n",
    "    return sig"
   ]
  },
  {
   "cell_type": "code",
   "execution_count": 61,
   "metadata": {},
   "outputs": [],
   "source": [
    "def sigmoidprime(x):\n",
    "    \"\"\"Function implements the derivative of a sigmoid function and expects a numpy array as argument\n",
    "        Args:\n",
    "            x (ndarray): Ndarray of values on which the sigmoid derivative should be applied\n",
    "        Returns:\n",
    "            ds (ndarray): Ndarray of resulting values\n",
    "    \"\"\"\n",
    "    s = sigmoid(x)\n",
    "    ds = s*(1-s)\n",
    "    return ds"
   ]
  },
  {
   "cell_type": "markdown",
   "metadata": {},
   "source": [
    "### data set and target values\n",
    "\n",
    "The training data set will consist of possible inputs and their corresponding labels. We are training the network on logical gates (and, or, not and, not or, xor $==$ exclusive or). We will create the inputs and labels ourselves.\n",
    "\n",
    "What are possible inputs to the logical gates?\n",
    "\n",
    "For each of the logical gates you will need an array of labels $(=$ the true solution that the network is supposed to output), one corresponding to each input pair. ${ }^{2}$\n",
    "\n",
    "${ }^{1}$ The logical gates take as input two binary digits (either 1 or 0 ), with all possible combinations there should be 4 input pairs. Put them in a $2 \\mathrm{D}$ numpy array. (The shape of the array should be $(4,2))$\n",
    "\n",
    "${ }^{2}$ You will need 5 arrays for each type of gate containing 4 binary digits $(0$ or 1 corresponding to the input)\n"
   ]
  },
  {
   "cell_type": "code",
   "execution_count": 62,
   "metadata": {},
   "outputs": [],
   "source": [
    "# inputs\n",
    "logical_inputs = np.array([[0,0],[0,1],[1,0],[1,1]])\n",
    "\n",
    "# targeted results\n",
    "t_and = np.array([0,0,0,1])\n",
    "t_or = np.array([0,1,1,1])\n",
    "t_nand = np.array([1,1,1,0])\n",
    "t_nor = np.array([1,0,0,0])\n",
    "t_xor = np.array([0,1,1,0])"
   ]
  },
  {
   "cell_type": "markdown",
   "metadata": {},
   "source": [
    "## Perceptron class\n",
    "\n",
    "Our multilayer-Perceptron will consist of single Perceptrons. So we will need a class Perceptron.\n",
    "\n",
    "Think about what a Perceptron consists of. ${ }^{3}$\n",
    "\n",
    "When you create a Perceptron, it should receive an integer argument called input_units specifying how many weights are coming in to your Perceptron. In the beginning, random values should be assigned to the weights and the bias. ${ }^{4}$ Also assign the learning rate alpha $=1 .{ }^{5}$\n",
    "\n",
    "The Perceptron should have a function forward_step(self, inputs) that calculates the activation of the perceptron. Use sigmoid as activation function.\n",
    "\n",
    "Then you'll need a function update (self, delta) which updates the parameters. To do so, compute the gradients for weights and bias from the error term $\\delta$. (This error term will be passed to the function when the backpropagation of the parent class MLP() is called - see next section.\n",
    "\n",
    "Compute the gradients using:\n",
    "\n",
    "$$\n",
    "\\frac{\\partial L}{\\partial w_{i j}^{(l)}}=\\delta_{i}^{(l)} a_{j}^{(l-1)}\n",
    "$$\n",
    "\n",
    "And then update the parameters using:\n",
    "\n",
    "$$\n",
    "\\theta_{\\text {new }}=\\theta_{\\text {old }}-\\alpha \\nabla L_{\\theta}\n",
    "$$\n",
    "\n",
    "${ }^{3}$ weights and a bias\n",
    "\n",
    "${ }^{4}$ you can use np.random.randn() for that\n",
    "\n",
    "${ }^{5}$ All of this happens in the _init_. function. Make sure you define weights, bias, alpha with self. in the beginning so they can be accessed in all functions of the class.\n",
    "\n"
   ]
  },
  {
   "cell_type": "code",
   "execution_count": 70,
   "metadata": {},
   "outputs": [],
   "source": [
    "class Perceptron:\n",
    "    \"\"\"Single neuron handling its own weights and bias.\n",
    "        Instance Attributes:\n",
    "            weights (ndarray): weights coming into the perceptron\n",
    "            bias (float): additional bias weight\n",
    "            alpha (int): Learning rate\n",
    "        Methods:\n",
    "            __init__(self, input_units): Class constructor\n",
    "            forward_step(self, inputs): Calculates activation of the neuron\n",
    "            update(self, delta): Updates the weights\n",
    "    \"\"\"\n",
    "    def __init__(self, input_units):\n",
    "        \"\"\"Initialize a new neuron with its weights and bias.\n",
    "            Args:\n",
    "                input_units (int): Dimensionality of the data coming into this perceptron.\n",
    "                    In a network of perceptrons this basically represents the\n",
    "                    number of neurons in the layer before this neuron's layer or basically how many weights are coming in.\n",
    "                    Used for generating the perceptron's weights vector, which not only includes one weight per input\n",
    "                    but also an additional bias weight.\n",
    "        \"\"\"\n",
    "        # initializing as many random weights as given input_units \n",
    "        self.weights = np.random.randn(input_units)\n",
    "        \n",
    "        # its a single perceptron, so should have a single random bias. \n",
    "        self.bias = np.random.randn()\n",
    "        \n",
    "        # learning rate\n",
    "        self.alpha = 1\n",
    "        \n",
    "    def forward_step(self, inputs):\n",
    "        \"\"\"Function calculates the activation of the perceptron using sigmoid as activation function on the weighted sum.\n",
    "        Weighted sum is calculateed from the dot product of input and weights plus the bias.\n",
    "            Args:\n",
    "                self: gain access to all weights (and the bias) and the learning rate\n",
    "                inputs (ndarray): gathers all inputs\n",
    "            Returns:\n",
    "                float between 0 and 1 for the activation\n",
    "        \"\"\"\n",
    "        # gather the input\n",
    "        self.input = inputs\n",
    "        \n",
    "        # calculates the weighted sum after: weight = ( W dot X + b )  \n",
    "        self.weighted_sum = self.weights @ self.input  + self.bias \n",
    "        \n",
    "        # puts it through activation function sigma(weight) and returns the output\n",
    "        return sigmoid(self.weighted_sum)\n",
    "    \n",
    "    \n",
    "    def update(self, delta):\n",
    "        \"\"\" Computes the gradient for weights and bias from the error term delta, then updates the neurons weights accordingly.\n",
    "            Args:\n",
    "                self: gain access to all weights (and the bias) and the learning rate\n",
    "                delta (float): Error value passed during backpropagation\n",
    "        \"\"\"\n",
    "        # calculation of the gradient (▽ L) = delta_of_next_neuron * output_of_corresponding_neuron \n",
    "        gradient =  delta * self.input\n",
    "        \n",
    "        # updating the weights according to the learning rate and calculated gradient\n",
    "        self.weights -= self.alpha * gradient"
   ]
  },
  {
   "cell_type": "markdown",
   "metadata": {},
   "source": [
    "## MLP\n",
    "\n",
    "Further, we will need a class MLP() that can perform a forward and backprop-step. Initialize the MLP with $\\mathbf{1}$ hidden layer that has $\\mathbf{4}$ Perceptrons. Initialize $\\mathbf{1}$ output neuron$ { }^{7}$. Define the following functions of the class:\n",
    "\n",
    "- In the forward_step the inputs are passed through the network. ${ }^{8}$\n",
    "\n",
    "- In the backprop_step the parameters of the network are updated. ${ }^{9}$\n",
    "\n",
    "\n",
    "${ }^{7}$ It might make sense to also initialize a variable self. output to store the output.\n",
    "\n",
    "${ }^{8}$ First compute the activations for the hidden layer. (You might need to reshape the resulting array to feed it to the output neuron. Check np.reshape (arr, newshape $=(-1))$.)\n",
    "\n",
    "Then feed the activations of the hidden laver into the output laver. Store it in self. output.\n",
    "\n",
    "${ }^{9}$ That means, update the weights and the biases of the output neuron (first) and neurons in the hidden layers (afterwards). For that, first compute the error term $\\delta$ using this formula:\n",
    "\n",
    "$$\n",
    "\\delta_{i}^{(l)}=\\left\\{-\\left(t_{i}-y_{i}\\right) \\sigma^{\\prime}\\left(d_{i}^{(N)}\\right) \\text { if } l=N,\\left(\\sum_{k=1}^{m} \\delta_{k}^{(l+1)} w_{k i}^{(+1)}\\right) \\sigma^{\\prime}\\left(d_{i}^{(l)}\\right)\\right. \\text { else. }\n",
    "$$\n",
    "\n",
    "Then call the update (self, delta) function of the respective neuron and hand the delta over.\n",
    "\n",
    "(This is just a suggestion, there might be different solutions.)\n"
   ]
  },
  {
   "cell_type": "code",
   "execution_count": 68,
   "metadata": {},
   "outputs": [],
   "source": [
    "class MLP():\n",
    "    \"\"\" Network of multiple perceptron layers.\n",
    "        Instance attributes:\n",
    "            h_layer (list of instances of Perceptron): hidden layer of the MLP\n",
    "            out_neuron (instance of Perceptron): output neuron\n",
    "            output (int): stores output of a layer (default 0)\n",
    "        Methods:\n",
    "            __init__(self): Class constructor\n",
    "            forward_step(self, inputs): Performs a forward step\n",
    "            backprop_step(self, inputs, target): Performs backpropagation step\n",
    "    \"\"\"\n",
    "    def __init__(self):\n",
    "        \"\"\"Initialize a new network, made up of individual perceptron layers.\"\"\"\n",
    "        # initialize 1 hidden layer with 4 perceptrons\n",
    "        self.h_layer = [Perceptron(2), Perceptron(2), Perceptron(2), Perceptron(2)]\n",
    "        \n",
    "        # initialize the output neuron 4 types of combination \n",
    "        self.out_neuron = Perceptron(4)\n",
    "        \n",
    "        # initialize a variable self.output to store the output\n",
    "        self.output = 0\n",
    "    \n",
    "    def forward_step(self, inputs):\n",
    "        \"\"\"Performs a forward step: Computes activation of all neurons in the layer and feeds them to the output.\n",
    "            Args:\n",
    "                self: gain access to the layers of the MLP\n",
    "                inputs (ndarray): Input to the layer\n",
    "        \"\"\"\n",
    "        # create an empty list\n",
    "        activations = []\n",
    "        \n",
    "        # compute the activation for every neuron in hidden layer iteratively\n",
    "        for perceptron in self.h_layer:\n",
    "            # calls the forward step for each neuron (activation)\n",
    "            collect_activation = perceptron.forward_step(inputs)\n",
    "            # stores activation in a list\n",
    "            activations.append(collect_activation)\n",
    "        \n",
    "        # convert the activations list into an array and reshapes it to a single vector\n",
    "        activations = np.reshape(np.array(activations), newshape = (-1))\n",
    "        \n",
    "        # recall function for the output layer with the activation vector as new input to get final output\n",
    "        self.output = self.out_neuron.forward_step(activations)\n",
    "        \n",
    "    \n",
    "    def backprop_step(self, inputs, target):\n",
    "        \"\"\"Performs a backpropagation step where it calculates the error rate delta for each perceptron\n",
    "        and adapts the weights by calling on Perceptron.update()\n",
    "            self: gain access to the layers of the MLP\n",
    "            inputs (ndarray): takes inputs to the MLP\n",
    "            target (ndarray): target values\n",
    "        \"\"\"\n",
    "        ## Step 1: backpropagation on the output neurons (layer == N) \n",
    "        \n",
    "        # calculate the error rate delta for the output neuron\n",
    "        # formula: delta(output) = (output - target value) * sigmoid'(weighted sum)\n",
    "        delta_output = (self.output - target) * sigmoidprime(self.out_neuron.weighted_sum)\n",
    "        \n",
    "        # update the weights with the calculated error rate\n",
    "        self.out_neuron.update(delta_output)\n",
    "        \n",
    "        \n",
    "        ## Step 2: hidden neurons\n",
    "\n",
    "        # creating empty list for storing the delta values of the hidden layer\n",
    "        delta_hidden = []\n",
    "        \n",
    "        # for each perceptron in the hidden layer apply\n",
    "        # formula: delta(hidden) = delta_j * sigmoid'(weighted sum) * sum_of_weights\n",
    "        for index, perceptron in enumerate(self.h_layer):\n",
    "            # compute the delta value and add it to the list (first itter = calculate the output neurons delta) \n",
    "            collect_delta = delta_output * sigmoidprime(perceptron.weighted_sum) * self.out_neuron.weights[index]\n",
    "            delta_hidden.append(collect_delta)\n",
    "            # update the weights for the next backward neuron\n",
    "            perceptron.update(delta_hidden[index])"
   ]
  },
  {
   "cell_type": "markdown",
   "metadata": {},
   "source": [
    "## Training\n",
    "\n",
    "As a loss function for training, we will use the squared error $(t-y)^{2}$. This loss is the sigmoid output vs. the target (=label in dataset). But as discussed in the lecture, we want to introduce an additional measurement of the performance of the network: This is the accuracy measure. While the loss compares the distance of our network to the ground truth, the accuracy makes a less qualitative statement about the performance of our network, but quantitatively tells us how our network is doing. To do so, we introduce a threshold, in our case we use $0.5$ and define that if the network outputs a value bigger than $0.5$ and the target is 1 , it counts as a correct classification. If target is 0 a correct classification will be a value smaller than $0.5$ respectively. The accuaracy is then defined as the ratio of correct classification vs total classifications performed\n",
    "\n",
    "The training procedure thus should consist of the following steps:\n",
    "\n",
    "1. Create an instance of an MLP class.\n",
    "\n",
    "2. Train the instance for 1000 epochs.\n",
    "\n",
    "a) In each epoch, loop over each point in your dataset once.\n",
    "\n",
    "i. For each data point, perform a forward and a backward step.\n",
    "\n",
    "ii. Record the accuracy and the loss for each point.\n",
    "\n",
    "For the purpose of visualization and also to monitor the performance of your network, you should keep track of the epochs and the average loss and accuracy for each epoch."
   ]
  },
  {
   "cell_type": "code",
   "execution_count": 71,
   "metadata": {},
   "outputs": [],
   "source": [
    "#instance of the MLP class\n",
    "mlp = MLP()\n",
    "\n",
    "# initialize lists to store performance and declare threshold and epochs to train to\n",
    "accuracies = []\n",
    "losses = []\n",
    "epochs = []\n",
    "threshold = 0.5\n",
    "epoch = 1000\n",
    "\n",
    "for index in range(epoch):\n",
    "    # keep track of the steps and start all tracking at 0\n",
    "    epochs.append(index)\n",
    "    my_accuracy = 0\n",
    "    my_loss = 0\n",
    "    \n",
    "    # iterate over the inputs and corresponding target values\n",
    "    for number in range(4):\n",
    "        input = logical_inputs[number]\n",
    "        target = t_xor[number]\n",
    "\n",
    "        mlp.forward_step(input)\n",
    "        mlp.backprop_step(input, target)\n",
    "\n",
    "        # checking if the output and target values match\n",
    "        my_accuracy += int(int(mlp.output >= threshold) == target)\n",
    "\n",
    "        # calculate the loss with the squared error = (t-y)^2\n",
    "        my_loss += (target - mlp.output) ** 2\n",
    "\n",
    "    accuracy = my_accuracy/4\n",
    "    accuracies.append(accuracy)\n",
    "    losses.append(my_loss/4)"
   ]
  },
  {
   "cell_type": "markdown",
   "metadata": {},
   "source": [
    "## Visualization\n",
    "\n",
    "  Visualize the training progress using matplotlib. Create one graph with the epochs on the $x$-axis and the average loss per epoch on the $y$-axis. Do the same for the average accuracy per epoch.\n",
    "\n",
    "If your MLP trained correctly, the loss should come down to zero and the accuracy should go up to 1 in most cases. Due to random weight initialization the accuracy might not reach 1 sometimes. In that case just rerun the MLP initialization and the training. "
   ]
  },
  {
   "cell_type": "code",
   "execution_count": 73,
   "metadata": {},
   "outputs": [
    {
     "data": {
      "text/plain": [
       "Text(0, 0.5, 'loss')"
      ]
     },
     "execution_count": 73,
     "metadata": {},
     "output_type": "execute_result"
    },
    {
     "data": {
      "image/png": "[encoded data removed]",
      "text/plain": [
       "<Figure size 432x288 with 1 Axes>"
      ]
     },
     "metadata": {
      "needs_background": "light"
     },
     "output_type": "display_data"
    },
    {
     "data": {
      "image/png": "[encoded data removed]",
      "text/plain": [
       "<Figure size 432x288 with 1 Axes>"
      ]
     },
     "metadata": {
      "needs_background": "light"
     },
     "output_type": "display_data"
    }
   ],
   "source": [
    "plt.figure()\n",
    "\n",
    "# plot the accuracy vs the epoch\n",
    "plt.title(\"accuracy vs epoch\")\n",
    "plt.plot(epochs,accuracies)\n",
    "plt.xlabel(\"step size\")\n",
    "plt.ylabel(\"accuracy\")\n",
    "\n",
    "# plot the loss vs the epoch\n",
    "plt.figure()\n",
    "\n",
    "plt.title(\"loss vs epoch\")\n",
    "plt.plot(epochs,losses)\n",
    "plt.xlabel(\"step size\")\n",
    "plt.ylabel(\"loss\")"
   ]
  }
 ],
 "metadata": {
  "kernelspec": {
   "display_name": "Python 3",
   "language": "python",
   "name": "python3"
  },
  "language_info": {
   "codemirror_mode": {
    "name": "ipython",
    "version": 3
   },
   "file_extension": ".py",
   "mimetype": "text/x-python",
   "name": "python",
   "nbconvert_exporter": "python",
   "pygments_lexer": "ipython3",
   "version": "3.8.8"
  }
 },
 "nbformat": 4,
 "nbformat_minor": 4
}
