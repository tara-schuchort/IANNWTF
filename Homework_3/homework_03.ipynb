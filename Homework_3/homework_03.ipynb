{
  "nbformat": 4,
  "nbformat_minor": 0,
  "metadata": {
    "colab": {
      "name": "homework_03.ipynb",
      "provenance": [],
      "collapsed_sections": []
    },
    "kernelspec": {
      "name": "python3",
      "display_name": "Python 3"
    },
    "language_info": {
      "name": "python"
    },
    "accelerator": "GPU"
  },
  "cells": [
    {
      "cell_type": "markdown",
      "metadata": {
        "id": "QRigAa6RBiak"
      },
      "source": [
        "### 1 Data set\n",
        "\n",
        "\n",
        "In this homework we want to classify bacteria based on their genome sequences. The 'genomics_ood' data set is already inbuilt in Tensorflow. The input will be a genomic sequence, which (short biology recap) consists of the characters $\\{\\mathrm{A}, \\mathrm{C}, \\mathrm{G}, \\mathrm{T}\\}$ (also known as nucleotides). Each genomic sequence will be 250 characters long, with each char one of the 4 options. We want to classify each genome sequence to 1 of 10 bacteria populations. (Technically, the data set also contains 120 more 'out of distribution' classes which are stored in test_ood and validation_ood, but you can disregard them for this homework.) Learn more about the data set here and have a look at example elements: https: //wWW.tensorflow.org/datasets/catalog/genomics_ood\n",
        "\n",
        "First you will need to load the data set from the module tensorflow_datasets. 1\n",
        "\n",
        "We have heard of some troubles with this data set and Windows. In case you encounter error messages when loading the data set when running it on your own machine, please consider switching to Colab. (Or trying a dual boot Ubuntu option. If none of that is an option for you, we recommend you working together with group mates who can load the data set.)\n",
        "\n",
        "Then we will need some preparations on the data:\n",
        "\n",
        "Take out a bunch of examples for our network. The whole dataset contains 1 million training examples and $100.000$ test examples. It will be sufficient to use $100.000$ examples for training and 1000 for testing. (If you are not sure what is the purpose of having a training and testing data set, check the chapter 'Data and Data Pipelines' on Courseware Week 03 again. But we will also talk about that next week in more detail.)\n",
        "\n",
        "The genomic sequences come as string-tensor which are not so handy to work with. Instead, we would like to have the genomic sequence with one-hot-vectors for encoding the nucleotides $(\\mathrm{A}, \\mathrm{C}, \\mathrm{G}, \\mathrm{T})$. But because the sequences are string tensors, we cannot simply call tf. one_hot $(x, 4)$ on them. Therefore we need a function which converts the string tensor into a usable tensor that contains the one-hot-encoded sequence. You can try to build this function yourself (which might potentially be tricky, but we will give you some instructions in the hints $^{2}$ ). Otherwise we also provide it for you in the end of the document. Also apply one-hot-encoding on the labels. (Keep in mind that they have a different shape than the input data.) $^{3}$\n",
        "\n",
        "For an outstanding we would like to see you using an input pipeline, including batching and (ideally) prefetching, but otherwise you can also do it without one.\n"
      ]
    },
    {
      "cell_type": "markdown",
      "metadata": {
        "id": "wT3Rm0BLBytL"
      },
      "source": [
        "${ }^{1}$ Check out tfds. load () for that. Make sure you have as_supervised = True, because otherwise the labels are not included in the data set.\n",
        "\n",
        "${ }^{2}$ First replace the character with a number from $0-3 .$ You might have to translate the \"string\" numbers into int numbers - check out tf.cast() for that. Split after each number. And only then call tf. one_hot $(x, 4)$ on them. It is also important that your inputs have the shape (batchsize, 1000$)$ in the end. Or simply check the function provided in the end of the document.\n",
        "\n",
        "${ }^{3}$ You can use the standard tf. one_hot () for the labels. Your labels should have the shape (batchsize, 10) in the end."
      ]
    },
    {
      "cell_type": "code",
      "metadata": {
        "id": "PZRDLWC3pboK"
      },
      "source": [
        "import tensorflow as tf\n",
        "import tensorflow_datasets as tfds\n",
        "import numpy as np\n",
        "import matplotlib.pyplot as plt"
      ],
      "execution_count": 1,
      "outputs": []
    },
    {
      "cell_type": "markdown",
      "metadata": {
        "id": "Bqads4NkBhkz"
      },
      "source": [
        ""
      ]
    },
    {
      "cell_type": "code",
      "metadata": {
        "id": "70fbVBOrpmlA"
      },
      "source": [
        "# import dataset\n",
        "train_ds, test_ds = tfds.load(\n",
        "    \"genomics_ood\",\n",
        "    as_supervised=True, # to include the labels\n",
        "    split=(\"train[0:100000]\", \"test[0:1000]\") #100.000 example for training and 1000 for testing\n",
        "     # -1 to get the full dataset as a tf.Tensor\n",
        "    )\n",
        "\n"
      ],
      "execution_count": 2,
      "outputs": []
    },
    {
      "cell_type": "code",
      "metadata": {
        "id": "c5ltd24flvMw"
      },
      "source": [
        ""
      ],
      "execution_count": null,
      "outputs": []
    },
    {
      "cell_type": "code",
      "metadata": {
        "id": "xYqGwf3Cqlx6"
      },
      "source": [
        "def onehotify(tensor):\n",
        "  vocab = {'A':'1', 'C': '2', 'G':'3', 'T':'0'}\n",
        "  for key in vocab.keys():\n",
        "    tensor = tf.strings.regex_replace(tensor, key, vocab[key])\n",
        "    split = tf.strings.bytes_split(tensor)\n",
        "    labels = tf.cast(tf.strings.to_number(split), tf.uint8)\n",
        "    onehot = tf.one_hot(labels, 4)\n",
        "    onehot = tf.reshape(onehot, (-1,))\n",
        "  return onehot\n"
      ],
      "execution_count": 3,
      "outputs": []
    },
    {
      "cell_type": "code",
      "metadata": {
        "id": "JyzX2K5Txeit"
      },
      "source": [
        ""
      ],
      "execution_count": null,
      "outputs": []
    },
    {
      "cell_type": "markdown",
      "metadata": {
        "id": "kBjqcWWZnF_u"
      },
      "source": [
        "need to zip the data and lebels and run onehotify\n"
      ]
    },
    {
      "cell_type": "code",
      "metadata": {
        "id": "0W7TEBWlnHSu"
      },
      "source": [
        "# preprocessing the data\n",
        "\n",
        "# tensorflow.python.framework.ops.EagerTensor has to attribute map\n",
        "# so converting the labels into datasets using tf.data.Dataset.from_tensor_slices\n",
        "\n",
        "# https://colab.research.google.com/github/tensorflow/docs/blob/master/site/en/guide/data.ipynb\n",
        "\n",
        "\n",
        "\n",
        "# train_ds = tf.data.Dataset.from_tensor_slices(train_ds)\n",
        "# testr_ds= tf.data.Dataset.from_tensor_slices(test_ds)\n",
        "\n",
        "\n",
        "\n",
        "def prepare_data(genomics_ood):\n",
        "    # #convert data from uint8 to float32\n",
        "    genomics_ood = genomics_ood.map(lambda seq, label: (onehotify(seq), tf.one_hot(label, 10)))\n",
        "    # cache this progress in memory, as there is no need to redo it; it is deterministic after all\n",
        "    genomics_ood = genomics_ood.cache()\n",
        "    # shuffle, batch, prefetch\n",
        "    genomics_ood = genomics_ood.shuffle(1000)\n",
        "    genomics_ood = genomics_ood.batch(32)\n",
        "    genomics_ood = genomics_ood.prefetch(20)\n",
        "    # return preprocessed dataset\n",
        "    return genomics_ood\n",
        "\n",
        "  \n",
        "train_ds = train_ds.apply(prepare_data)\n",
        "test_ds = test_ds.apply(prepare_data)\n",
        "\n",
        "\n",
        "\n",
        "\n",
        "# do the same things for training data set\n",
        "\n"
      ],
      "execution_count": 4,
      "outputs": []
    },
    {
      "cell_type": "markdown",
      "metadata": {
        "id": "x549UBNisY76"
      },
      "source": [
        "### Model\n",
        "\n",
        "We will implement a simple fully connected feed forward neural network like the last time. Our network will have the following layers:\n",
        "\n",
        "- Hidden layer 1: 256 units. With sigmoid activation function.\n",
        "\n",
        "- Hidden layer 2: 256 units. With sigmoid activation function.\n",
        "\n",
        "- Output: 10 units. With softmax activation function.\n",
        "\n",
        "You can start by implementing your own dense layer class and then use it for your custom model $^{4}$\n",
        "\n",
        "\n",
        "\n",
        "${ }^{4}$ Check out the chapter: \"Models and Layers\""
      ]
    },
    {
      "cell_type": "code",
      "metadata": {
        "id": "oU4xltvLsa9J"
      },
      "source": [
        "# # from keras.models import Sequential\n",
        "# # from keras.layers import Dense , Activation\n",
        "\n",
        "\n",
        "# # model = Sequential()\n",
        "\n",
        "# # model.add(tf.keras.layers.Dense(256, activation=tf.nn.sigmoid))\n",
        "# # model.add(tf.keras.layers.Dense(256, activation=tf.nn.softmax))\n",
        "# # model.add(tf.keras.layers.Dense(10, activation=tf.nn.relu))\n",
        "\n",
        "# # model.compile(optimizer='sgd', loss=tf.keras.losses.CategoricalCrossentropy())\n",
        "\n",
        "# # #model.fit(training_genoms,training_labels, epochs=500)\n",
        "# # #model.summary(line_length=None, positions=None, print_fn=None)\n",
        "\n",
        "# from tensorflow.keras import Model\n",
        "# from tensorflow.keras.layers import Layer\n",
        "\n",
        "# class MYModel(Model):\n",
        "\n",
        "#     def __init__(self):\n",
        "#         super(MYModel, self).__init__()\n",
        "#         # Define the three layers.\n",
        "#         self.hidden_layer_1 = tf.keras.layers.Dense(units=256,\n",
        "#                                                activation=tf.keras.activations.sigmoid\n",
        "#                                                )\n",
        "#         self.hidden_layer_2 = tf.keras.layers.Dense(units=256,\n",
        "#                                                activation=tf.keras.activations.sigmoid\n",
        "#                                                )\n",
        "#         self.output_layer = tf.keras.layers.Dense(units=10,\n",
        "#                                                activation=tf.keras.activations.softmax\n",
        "#                                                )\n",
        "#     def call(self, x):\n",
        "#         # Define the forward step.\n",
        "#         x = self.hidden_layer_1(x)\n",
        "#         x = self.hidden_layer_2(x)\n",
        "#         x = self.output_layer(x)\n",
        "#         return x\n",
        "\n",
        "\n"
      ],
      "execution_count": 5,
      "outputs": []
    },
    {
      "cell_type": "code",
      "metadata": {
        "id": "WAS3Z48Fee7A"
      },
      "source": [
        "# Custom Model\n",
        "# Custom Model\n",
        "class MYModel(tf.keras.Model):\n",
        "    \n",
        "    def __init__(self):\n",
        "        super(MYModel, self).__init__()\n",
        "        self.dense1 = tf.keras.layers.Dense(256, activation=tf.nn.sigmoid)\n",
        "        self.dense2 = tf.keras.layers.Dense(256, activation=tf.nn.sigmoid)\n",
        "        self.dense3 = tf.keras.layers.Dense(10, activation=tf.nn.softmax)\n",
        "\n",
        "    def call(self, inputs):\n",
        "        x = self.dense1(inputs)\n",
        "        x = self.dense2(x)\n",
        "        x = self.dense3(x)\n",
        "        return x\n",
        "\n",
        "\n",
        "\n",
        "# Custom Layer\n",
        "class SimpleDense(tf.keras.layers.Layer):\n",
        "\n",
        "    def __init__(self, units=8):\n",
        "        super(SimpleDense, self).__init__()\n",
        "        self.units = units\n",
        "        self.activation = tf.nn.softmax\n",
        "\n",
        "    def build(self, input_shape): \n",
        "        self.w = self.add_weight(shape=(input_shape[-1], self.units),\n",
        "                               initializer='random_normal',\n",
        "                               trainable=True)\n",
        "        self.b = self.add_weight(shape=(self.units,),\n",
        "                               initializer='random_normal',\n",
        "                               trainable=True)\n",
        "\n",
        "    def call(self, inputs): \n",
        "        x = tf.matmul(inputs, self.w) + self.b\n",
        "        x = self.activation(x)\n",
        "        return x"
      ],
      "execution_count": 5,
      "outputs": []
    },
    {
      "cell_type": "markdown",
      "metadata": {
        "id": "JQczlY04CHXG"
      },
      "source": [
        "### Training\n",
        "\n",
        "Then train your network for 10 epochs using a learning rate of $0.1$. As a loss use the categorical cross entropy. ${ }^{5}$ As an optimizer use SGD.\n",
        "\n",
        "For the training loop you can use the \"Complete_Model_Training\" notebook on Courseware as orientation or try to build one yourself.\n",
        "\n",
        "For this task, an accuracy of $35-40 \\%$ is sufficient. "
      ]
    },
    {
      "cell_type": "markdown",
      "metadata": {
        "id": "zWQ_wVujCKPZ"
      },
      "source": [
        "${ }^{5}$ Check out 'tf.keras.losses'."
      ]
    },
    {
      "cell_type": "markdown",
      "metadata": {
        "id": "oT9rJGsAkLeW"
      },
      "source": [
        "Training, mainly taken from courseware\n"
      ]
    },
    {
      "cell_type": "code",
      "metadata": {
        "id": "2uC31gEjj6qn"
      },
      "source": [
        "def train_step(model, input, target, loss_function, optimizer):\n",
        "  # loss_object and optimizer_object are instances of respective tensorflow classes\n",
        "  with tf.GradientTape() as tape:\n",
        "    prediction = model(input)\n",
        "    loss = loss_function(target, prediction)\n",
        "    gradients = tape.gradient(loss, model.trainable_variables)\n",
        "  optimizer.apply_gradients(zip(gradients, model.trainable_variables))\n",
        "  return loss\n",
        "\n",
        "def test(model, test_data, loss_function):\n",
        "  # test over complete test data\n",
        "\n",
        "  test_accuracy_aggregator = []\n",
        "  test_loss_aggregator = []\n",
        "\n",
        "  for (input, target) in test_data:\n",
        "    prediction = model(input)\n",
        "    sample_test_loss = loss_function(target, prediction)\n",
        "    sample_test_accuracy =  np.argmax(target, axis=1) == np.argmax(prediction, axis=1)\n",
        "    sample_test_accuracy = np.mean(sample_test_accuracy)\n",
        "    test_loss_aggregator.append(sample_test_loss.numpy())\n",
        "    test_accuracy_aggregator.append(np.mean(sample_test_accuracy))\n",
        "\n",
        "  test_loss = tf.reduce_mean(test_loss_aggregator)\n",
        "  test_accuracy = tf.reduce_mean(test_accuracy_aggregator)\n",
        "\n",
        "  return test_loss, test_accuracy"
      ],
      "execution_count": 6,
      "outputs": []
    },
    {
      "cell_type": "markdown",
      "metadata": {
        "id": "4-gpkfDJkKXq"
      },
      "source": [
        ""
      ]
    },
    {
      "cell_type": "code",
      "metadata": {
        "colab": {
          "base_uri": "https://localhost:8080/"
        },
        "id": "OcOyqWXbkJaz",
        "outputId": "9fa0966d-a999-4894-e0f3-a65d988100c0"
      },
      "source": [
        "tf.keras.backend.clear_session()\n",
        "\n",
        "#For showcasing we only use a subset of the training and test data (generally use all of the available data!)\n",
        "train_dataset = train_ds\n",
        "test_dataset = test_ds\n",
        "\n",
        "### Hyperparameters\n",
        "num_epochs = 10\n",
        "learning_rate = 0.1\n",
        "\n",
        "# Initialize the model.\n",
        "model = MYModel()\n",
        "# Initialize the loss: categorical cross entropy. Check out 'tf.keras.losses'.\n",
        "cross_entropy_loss = tf.keras.losses.CategoricalCrossentropy()\n",
        "# Initialize the optimizer: SGD with default parameters. Check out 'tf.keras.optimizers'\n",
        "optimizer = tf.keras.optimizers.SGD(learning_rate)\n",
        "\n",
        "# Initialize lists for later visualization.\n",
        "train_losses = []\n",
        "\n",
        "test_losses = []\n",
        "test_accuracies = []\n",
        "\n",
        "#testing once before we begin\n",
        "test_loss, test_accuracy = test(model, test_dataset, cross_entropy_loss)\n",
        "test_losses.append(test_loss)\n",
        "test_accuracies.append(test_accuracy)\n",
        "\n",
        "#check how model performs on train data once before we begin\n",
        "train_loss, _ = test(model, train_dataset, cross_entropy_loss)\n",
        "train_losses.append(train_loss)\n",
        "\n",
        "# We train for num_epochs epochs.\n",
        "for epoch in range(num_epochs):\n",
        "    print(f'Epoch: {str(epoch)} starting with accuracy {test_accuracies[-1]}')\n",
        "\n",
        "    #training (and checking in with training)\n",
        "    epoch_loss_agg = []\n",
        "    for input,target in train_dataset:\n",
        "        train_loss = train_step(model, input, target, cross_entropy_loss, optimizer)\n",
        "        epoch_loss_agg.append(train_loss)\n",
        "    \n",
        "    #track training loss\n",
        "    train_losses.append(tf.reduce_mean(epoch_loss_agg))\n",
        "\n",
        "    #testing, so we can track accuracy and test loss\n",
        "    test_loss, test_accuracy = test(model, test_dataset, cross_entropy_loss)\n",
        "    test_losses.append(test_loss)\n",
        "    test_accuracies.append(test_accuracy)"
      ],
      "execution_count": 7,
      "outputs": [
        {
          "output_type": "stream",
          "name": "stdout",
          "text": [
            "Epoch: 0 starting with accuracy 0.0908203125\n",
            "Epoch: 1 starting with accuracy 0.30078125\n",
            "Epoch: 2 starting with accuracy 0.3701171875\n",
            "Epoch: 3 starting with accuracy 0.3818359375\n",
            "Epoch: 4 starting with accuracy 0.380859375\n",
            "Epoch: 5 starting with accuracy 0.37109375\n",
            "Epoch: 6 starting with accuracy 0.3671875\n",
            "Epoch: 7 starting with accuracy 0.3818359375\n",
            "Epoch: 8 starting with accuracy 0.375\n",
            "Epoch: 9 starting with accuracy 0.3955078125\n"
          ]
        }
      ]
    },
    {
      "cell_type": "markdown",
      "metadata": {
        "id": "w-3NagyX9Dn6"
      },
      "source": [
        "### visualization\n",
        "\n",
        "\n",
        "\n",
        "Visualize accuracy and loss for training and test data using matplotlib. ${ }^{6}$ \n",
        "\n",
        "${ }^{6}$ Use the notebooks uploaded by us as orientation, e.g. the \"Complete_Model_Training\" notebook. \n"
      ]
    },
    {
      "cell_type": "code",
      "metadata": {
        "id": "sS451yMA9FLN",
        "colab": {
          "base_uri": "https://localhost:8080/",
          "height": 278
        },
        "outputId": "ece7d5cb-eb7b-4816-b0bb-767096d56944"
      },
      "source": [
        "import matplotlib.pyplot as plt\n",
        "\n",
        "# Visualize accuracy and loss for training and test data.\n",
        "plt.figure()\n",
        "line1, = plt.plot(train_losses)\n",
        "line2, = plt.plot(test_losses)\n",
        "line3, = plt.plot(test_accuracies)\n",
        "\n",
        "plt.xlabel(\"Training steps\")\n",
        "plt.ylabel(\"Loss/Accuracy\")\n",
        "plt.legend((line1,line2, line3),(\"training\",\"test\", \"test accuracy\"))\n",
        "plt.show()"
      ],
      "execution_count": 8,
      "outputs": [
        {
          "output_type": "display_data",
          "data": {
            "image/png": "[encoded data removed]",
            "text/plain": [
              "<Figure size 432x288 with 1 Axes>"
            ]
          },
          "metadata": {
            "needs_background": "light"
          }
        }
      ]
    }
  ]
}